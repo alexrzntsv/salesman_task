{
 "cells": [
  {
   "cell_type": "code",
   "execution_count": 1,
   "id": "5fa305d9",
   "metadata": {},
   "outputs": [
    {
     "name": "stdout",
     "output_type": "stream",
     "text": [
      "Requirement already satisfied: prettytable in c:\\users\\alexe\\anaconda3\\lib\\site-packages (3.2.0)\n",
      "Requirement already satisfied: wcwidth in c:\\users\\alexe\\anaconda3\\lib\\site-packages (from prettytable) (0.2.5)\n"
     ]
    }
   ],
   "source": [
    "!pip install prettytable"
   ]
  },
  {
   "cell_type": "code",
   "execution_count": 2,
   "id": "826fa244",
   "metadata": {},
   "outputs": [],
   "source": [
    "from prettytable import PrettyTable\n",
    "import itertools\n",
    "import time\n",
    "import math"
   ]
  },
  {
   "cell_type": "code",
   "execution_count": 3,
   "id": "d3191466",
   "metadata": {},
   "outputs": [
    {
     "name": "stdout",
     "output_type": "stream",
     "text": [
      "Введите количество городов: 5\n",
      "Если пути между городами нет, введите 0\n",
      "Введите стоимость путей для города 1: 0 3 4 5 0\n",
      "Введите стоимость путей для города 2: 4 0 5 6 1\n",
      "Введите стоимость путей для города 3: 3 0 0 1 4\n",
      "Введите стоимость путей для города 4: 3 4 5 0 7\n",
      "Введите стоимость путей для города 5: 4 4 3 1 0\n",
      "+---------+---------+---------+---------+---------+---------+\n",
      "|         | Город 1 | Город 2 | Город 3 | Город 4 | Город 5 |\n",
      "+---------+---------+---------+---------+---------+---------+\n",
      "| Город 1 |    ✗    |    3    |    4    |    5    |    ✗    |\n",
      "| Город 2 |    4    |    ✗    |    5    |    6    |    1    |\n",
      "| Город 3 |    3    |    ✗    |    ✗    |    1    |    4    |\n",
      "| Город 4 |    3    |    4    |    5    |    ✗    |    7    |\n",
      "| Город 5 |    4    |    4    |    3    |    1    |    ✗    |\n",
      "+---------+---------+---------+---------+---------+---------+\n"
     ]
    }
   ],
   "source": [
    "mytable = PrettyTable()\n",
    "table, city = [], []\n",
    "\n",
    "number = int(input('Введите количество городов: '))\n",
    "print('Если пути между городами нет, введите 0')\n",
    "\n",
    "mytable.field_names = [''] + ['Город ' + str(i) for i in range(1, number+1)]\n",
    "\n",
    "def check_input():\n",
    "    try:\n",
    "        city = list(map(int, input(f'Введите стоимость путей для города {str(i + 1)}: ').split()))\n",
    "        assert len(city) == number\n",
    "    except (ValueError, AssertionError):\n",
    "        print(f'Значения стоимостей путей для города {str(i + 1)} введены некорректно, повторите снова')\n",
    "        return check_input()\n",
    "    else:\n",
    "        return city\n",
    "\n",
    "for i in range(number):\n",
    "    city = check_input()\n",
    "    city[i] = chr(10007)\n",
    "    city = [i if i!=0 else math.inf for i in city]\n",
    "    mytable.add_row(['Город ' + str(i + 1)] + [i if i!=math.inf else chr(10007) for i in city])\n",
    "    table.append(city)\n",
    "\n",
    "print(mytable)"
   ]
  },
  {
   "cell_type": "code",
   "execution_count": 4,
   "id": "e75fed7c",
   "metadata": {},
   "outputs": [],
   "source": [
    "first_city = 0\n",
    "city_list = list(range(number))\n",
    "\n",
    "def Bellman(cities, table):\n",
    "    main = cities.pop(0)\n",
    "    if len(cities) == 1:\n",
    "        return list((table[main][cities[0]] + table[cities[0]][first_city], list((main, cities[0], first_city))))\n",
    "    else:\n",
    "        list_of_fn, list_of_ways = [], []\n",
    "        for i in cities:\n",
    "            cities_rec = list(cities)\n",
    "            cities_rec.remove(i)\n",
    "            cities_rec = [i] + cities_rec\n",
    "            fn = Bellman(cities_rec, table)\n",
    "            list_of_fn.append(table[main][i] + fn[0])\n",
    "            list_of_ways.append([main] + fn[1])\n",
    "        if min(list_of_fn) != math.inf: \n",
    "            return list((min(list_of_fn), list_of_ways[list_of_fn.index(min(list_of_fn))]))\n",
    "        else:\n",
    "            return False"
   ]
  },
  {
   "cell_type": "code",
   "execution_count": 5,
   "id": "c97d7b4a",
   "metadata": {},
   "outputs": [],
   "source": [
    "def The_full_search_method(cities, table, printer=True):\n",
    "    all_ways = [list(i) + [list(i)[0]] for i in itertools.permutations(cities)]\n",
    "    list_of_way_costs = []\n",
    "    for i in all_ways:\n",
    "        cost = 0\n",
    "        for j in range(len(i) - 1):\n",
    "            cost += table[i[j]][i[j+1]]\n",
    "        list_of_way_costs.append(cost)\n",
    "        \n",
    "    best_way = list(map(lambda x: str(x + 1), all_ways[list_of_way_costs.index(min(list_of_way_costs))]))\n",
    "    if min(list_of_way_costs) != math.inf:\n",
    "        if printer:\n",
    "            print(f'Самый короткий маршрут [{\" -> \".join(best_way)}], его длина: {min(list_of_way_costs)}')\n",
    "        return list(zip(best_way[:-1], best_way[1:]))\n",
    "    else:\n",
    "        if printer:\n",
    "            print('Ошибка: маршрут построить невозможно')\n",
    "        return False"
   ]
  },
  {
   "cell_type": "code",
   "execution_count": 6,
   "id": "fa62ade7",
   "metadata": {},
   "outputs": [
    {
     "name": "stdout",
     "output_type": "stream",
     "text": [
      "Самый короткий маршрут [1 -> 2 -> 5 -> 3 -> 4 -> 1], его длина: 11\n",
      "Вычисление методом полного перебора заняло 0.0005832000 секунд\n",
      "\n"
     ]
    }
   ],
   "source": [
    "tic_1 = time.perf_counter()\n",
    "best_way = The_full_search_method(city_list, table, printer=True)\n",
    "toc_1 = time.perf_counter()\n",
    "if best_way:\n",
    "    print(f\"Вычисление методом полного перебора заняло {toc_1 - tic_1:0.10f} секунд\\n\")"
   ]
  },
  {
   "cell_type": "code",
   "execution_count": 7,
   "id": "e5e78638",
   "metadata": {},
   "outputs": [
    {
     "name": "stdout",
     "output_type": "stream",
     "text": [
      "Самый короткий маршрут [1 -> 2 -> 5 -> 3 -> 4 -> 1], его длина: 11\n",
      "Вычисление методом динамического программирования заняло 0.0004811000 секунд\n",
      "\n",
      "Метод динамического программирования быстрее обычного перебора в 1.2122219913 раз\n"
     ]
    }
   ],
   "source": [
    "tic_2 = time.perf_counter()\n",
    "Ans = Bellman(city_list, table)\n",
    "if Ans:\n",
    "    print(f'Самый короткий маршрут [{\" -> \".join(list(map(lambda x: str(x + 1), Ans[1])))}], его длина: {Ans[0]}')\n",
    "    toc_2 = time.perf_counter()\n",
    "    print(f\"Вычисление методом динамического программирования заняло {toc_2 - tic_2:0.10f} секунд\")\n",
    "    print(f\"\\nМетод динамического программирования быстрее обычного перебора в {((toc_1 - tic_1) / (toc_2 - tic_2)):0.10f} раз\")\n",
    "else:\n",
    "    print('Ошибка: маршрут построить невозможно')"
   ]
  },
  {
   "cell_type": "code",
   "execution_count": 8,
   "id": "fdcd6431",
   "metadata": {},
   "outputs": [],
   "source": [
    "import matplotlib.pyplot as plt\n",
    "import networkx as nx\n",
    "from functools import reduce"
   ]
  },
  {
   "cell_type": "code",
   "execution_count": 9,
   "id": "ed7cc332",
   "metadata": {},
   "outputs": [
    {
     "data": {
      "image/png": "[encoded data removed]",
      "text/plain": [
       "<Figure size 432x288 with 1 Axes>"
      ]
     },
     "metadata": {},
     "output_type": "display_data"
    }
   ],
   "source": [
    "if Ans:\n",
    "    G = nx.DiGraph()\n",
    "\n",
    "    # Преобразование матрицы в список списков вида [вершина_1, вершина_2, длина]\n",
    "    edges_list = [[(str(i+1), str(j+1), table[i][j]) for i in range(number) if type(table[i][j]) != str and table[i][j]!= math.inf ] \n",
    "                  for j in range(number)]\n",
    "    edges_list = reduce(lambda x, y: x + y, edges_list)\n",
    "    G.add_weighted_edges_from(edges_list)\n",
    "\n",
    "    e_simple = [(u, v) for (u, v, d) in G.edges(data=True) if (u, v) not in best_way]\n",
    "    e_best = [(u, v) for (u, v, d) in G.edges(data=True) if (u, v) in best_way]\n",
    "\n",
    "    pos = nx.spring_layout(G, seed=7)  # positions for all nodes - seed for reproducibility\n",
    "    # nodes\n",
    "    nx.draw_networkx_nodes(G, pos, node_size=700)\n",
    "    # edges\n",
    "    nx.draw_networkx_edges(G, pos, edgelist=e_simple, edge_color=\"y\", width=3)\n",
    "    nx.draw_networkx_edges(\n",
    "        G, pos, edgelist=e_best, width=6, alpha=0.5, edge_color=\"r\", style=\"dashed\")\n",
    "\n",
    "    # node labels\n",
    "    nx.draw_networkx_labels(G, pos, font_size=20, font_family=\"sans-serif\")\n",
    "    # edge weight labels\n",
    "    edge_labels = nx.get_edge_attributes(G, \"weight\")\n",
    "    nx.draw_networkx_edge_labels(G, pos, edge_labels)\n",
    "\n",
    "    ax = plt.gca()\n",
    "    ax.margins(0.08)\n",
    "    plt.axis(\"off\")\n",
    "    plt.tight_layout()\n",
    "    plt.title(f'Самый короткий маршрут [{\" -> \".join(list(map(lambda x: str(x + 1), Ans[1])))}], его длина: {Ans[0]}')\n",
    "    plt.show()"
   ]
  },
  {
   "cell_type": "code",
   "execution_count": 10,
   "id": "2ce6d37b",
   "metadata": {},
   "outputs": [
    {
     "name": "stdout",
     "output_type": "stream",
     "text": [
      "Requirement already satisfied: graphviz in c:\\users\\alexe\\anaconda3\\lib\\site-packages (0.16)\n"
     ]
    }
   ],
   "source": [
    "!pip install graphviz"
   ]
  },
  {
   "cell_type": "code",
   "execution_count": 11,
   "id": "d66a232c",
   "metadata": {},
   "outputs": [
    {
     "data": {
      "image/svg+xml": [
       "<?xml version=\"1.0\" encoding=\"UTF-8\" standalone=\"no\"?>\r\n",
       "<!DOCTYPE svg PUBLIC \"-//W3C//DTD SVG 1.1//EN\"\r\n",
       " \"http://www.w3.org/Graphics/SVG/1.1/DTD/svg11.dtd\">\r\n",
       "<!-- Generated by graphviz version 2.38.0 (20140413.2041)\r\n",
       " -->\r\n",
       "<!-- Title: %3 Pages: 1 -->\r\n",
       "<svg width=\"316pt\" height=\"432pt\"\r\n",
       " viewBox=\"0.00 0.00 316.29 432.00\" xmlns=\"http://www.w3.org/2000/svg\" xmlns:xlink=\"http://www.w3.org/1999/xlink\">\r\n",
       "<g id=\"graph0\" class=\"graph\" transform=\"scale(1 1) rotate(0) translate(4 428)\">\r\n",
       "<title>%3</title>\r\n",
       "<polygon fill=\"white\" stroke=\"none\" points=\"-4,4 -4,-428 312.292,-428 312.292,4 -4,4\"/>\r\n",
       "<!-- 1 -->\r\n",
       "<g id=\"node1\" class=\"node\"><title>1</title>\r\n",
       "<ellipse fill=\"#c5fb77\" stroke=\"black\" cx=\"174.292\" cy=\"-402\" rx=\"18\" ry=\"18\"/>\r\n",
       "<ellipse fill=\"none\" stroke=\"black\" cx=\"174.292\" cy=\"-402\" rx=\"22\" ry=\"22\"/>\r\n",
       "<text text-anchor=\"middle\" x=\"174.292\" y=\"-398.3\" font-family=\"Times New Roman,serif\" font-size=\"14.00\">1</text>\r\n",
       "</g>\r\n",
       "<!-- 2 -->\r\n",
       "<g id=\"node2\" class=\"node\"><title>2</title>\r\n",
       "<ellipse fill=\"#c5fb77\" stroke=\"black\" cx=\"96.2922\" cy=\"-307\" rx=\"18\" ry=\"18\"/>\r\n",
       "<ellipse fill=\"none\" stroke=\"black\" cx=\"96.2922\" cy=\"-307\" rx=\"22\" ry=\"22\"/>\r\n",
       "<text text-anchor=\"middle\" x=\"96.2922\" y=\"-303.3\" font-family=\"Times New Roman,serif\" font-size=\"14.00\">2</text>\r\n",
       "</g>\r\n",
       "<!-- 1&#45;&gt;2 -->\r\n",
       "<g id=\"edge1\" class=\"edge\"><title>1&#45;&gt;2</title>\r\n",
       "<path fill=\"none\" stroke=\"#3a4562\" d=\"M160.347,-384.373C148.257,-369.958 130.596,-348.901 116.88,-332.546\"/>\r\n",
       "<polygon fill=\"#3a4562\" stroke=\"#3a4562\" points=\"119.224,-329.895 110.116,-324.483 113.861,-334.394 119.224,-329.895\"/>\r\n",
       "<text text-anchor=\"middle\" x=\"142.792\" y=\"-350.8\" font-family=\"Times New Roman,serif\" font-size=\"14.00\">3</text>\r\n",
       "</g>\r\n",
       "<!-- 3 -->\r\n",
       "<g id=\"node3\" class=\"node\"><title>3</title>\r\n",
       "<ellipse fill=\"#c5fb77\" stroke=\"black\" cx=\"84.2922\" cy=\"-22\" rx=\"18\" ry=\"18\"/>\r\n",
       "<ellipse fill=\"none\" stroke=\"black\" cx=\"84.2922\" cy=\"-22\" rx=\"22\" ry=\"22\"/>\r\n",
       "<text text-anchor=\"middle\" x=\"84.2922\" y=\"-18.3\" font-family=\"Times New Roman,serif\" font-size=\"14.00\">3</text>\r\n",
       "</g>\r\n",
       "<!-- 1&#45;&gt;3 -->\r\n",
       "<g id=\"edge2\" class=\"edge\"><title>1&#45;&gt;3</title>\r\n",
       "<path fill=\"none\" stroke=\"#fec7ba\" d=\"M193.353,-390.899C218.137,-376.226 258.292,-346.51 258.292,-308 258.292,-308 258.292,-308 258.292,-116 258.292,-52.364 166.651,-32.1115 116.381,-25.7892\"/>\r\n",
       "<polygon fill=\"#fec7ba\" stroke=\"#fec7ba\" points=\"116.662,-22.2986 106.329,-24.6409 115.868,-29.2534 116.662,-22.2986\"/>\r\n",
       "<text text-anchor=\"middle\" x=\"261.792\" y=\"-208.3\" font-family=\"Times New Roman,serif\" font-size=\"14.00\">4</text>\r\n",
       "</g>\r\n",
       "<!-- 4 -->\r\n",
       "<g id=\"node4\" class=\"node\"><title>4</title>\r\n",
       "<ellipse fill=\"#c5fb77\" stroke=\"black\" cx=\"114.292\" cy=\"-117\" rx=\"18\" ry=\"18\"/>\r\n",
       "<ellipse fill=\"none\" stroke=\"black\" cx=\"114.292\" cy=\"-117\" rx=\"22\" ry=\"22\"/>\r\n",
       "<text text-anchor=\"middle\" x=\"114.292\" y=\"-113.3\" font-family=\"Times New Roman,serif\" font-size=\"14.00\">4</text>\r\n",
       "</g>\r\n",
       "<!-- 1&#45;&gt;4 -->\r\n",
       "<g id=\"edge3\" class=\"edge\"><title>1&#45;&gt;4</title>\r\n",
       "<path fill=\"none\" stroke=\"#fec7ba\" d=\"M174.241,-379.696C173.496,-336.361 168.471,-235.41 139.292,-157 137.593,-152.435 135.299,-147.847 132.787,-143.503\"/>\r\n",
       "<polygon fill=\"#fec7ba\" stroke=\"#fec7ba\" points=\"135.732,-141.612 127.442,-135.013 129.808,-145.341 135.732,-141.612\"/>\r\n",
       "<text text-anchor=\"middle\" x=\"167.792\" y=\"-255.8\" font-family=\"Times New Roman,serif\" font-size=\"14.00\">5</text>\r\n",
       "</g>\r\n",
       "<!-- 2&#45;&gt;1 -->\r\n",
       "<g id=\"edge4\" class=\"edge\"><title>2&#45;&gt;1</title>\r\n",
       "<path fill=\"none\" stroke=\"#fec7ba\" d=\"M102.007,-328.418C105.72,-339.185 111.364,-352.162 119.292,-362 126.772,-371.281 137.003,-379.349 146.613,-385.701\"/>\r\n",
       "<polygon fill=\"#fec7ba\" stroke=\"#fec7ba\" points=\"144.831,-388.714 155.168,-391.037 148.536,-382.775 144.831,-388.714\"/>\r\n",
       "<text text-anchor=\"middle\" x=\"122.792\" y=\"-350.8\" font-family=\"Times New Roman,serif\" font-size=\"14.00\">4</text>\r\n",
       "</g>\r\n",
       "<!-- 2&#45;&gt;3 -->\r\n",
       "<g id=\"edge5\" class=\"edge\"><title>2&#45;&gt;3</title>\r\n",
       "<path fill=\"none\" stroke=\"#fec7ba\" d=\"M79.7727,-292.426C76.3835,-289.85 72.783,-287.257 69.2922,-285 54.9341,-275.716 48.619,-277.712 35.2922,-267 20.3001,-254.95 14.355,-251.891 7.29224,-234 -2.8376,-208.339 4.9591,-199.58 4.29224,-172 3.09805,-122.611 -10.4883,-100.643 20.2922,-62 29.401,-50.5647 42.8428,-41.6545 55.0593,-35.2558\"/>\r\n",
       "<polygon fill=\"#fec7ba\" stroke=\"#fec7ba\" points=\"56.6228,-38.3874 64.0705,-30.852 53.5492,-32.0983 56.6228,-38.3874\"/>\r\n",
       "<text text-anchor=\"middle\" x=\"7.79224\" y=\"-160.8\" font-family=\"Times New Roman,serif\" font-size=\"14.00\">5</text>\r\n",
       "</g>\r\n",
       "<!-- 2&#45;&gt;4 -->\r\n",
       "<g id=\"edge6\" class=\"edge\"><title>2&#45;&gt;4</title>\r\n",
       "<path fill=\"none\" stroke=\"#fec7ba\" d=\"M104.339,-286.352C115.002,-257.957 131.756,-203.728 125.292,-157 124.872,-153.962 124.276,-150.828 123.576,-147.718\"/>\r\n",
       "<polygon fill=\"#fec7ba\" stroke=\"#fec7ba\" points=\"126.961,-146.827 121.075,-138.017 120.182,-148.574 126.961,-146.827\"/>\r\n",
       "<text text-anchor=\"middle\" x=\"129.792\" y=\"-208.3\" font-family=\"Times New Roman,serif\" font-size=\"14.00\">6</text>\r\n",
       "</g>\r\n",
       "<!-- 5 -->\r\n",
       "<g id=\"node5\" class=\"node\"><title>5</title>\r\n",
       "<ellipse fill=\"#c5fb77\" stroke=\"black\" cx=\"38.2922\" cy=\"-212\" rx=\"18\" ry=\"18\"/>\r\n",
       "<ellipse fill=\"none\" stroke=\"black\" cx=\"38.2922\" cy=\"-212\" rx=\"22\" ry=\"22\"/>\r\n",
       "<text text-anchor=\"middle\" x=\"38.2922\" y=\"-208.3\" font-family=\"Times New Roman,serif\" font-size=\"14.00\">5</text>\r\n",
       "</g>\r\n",
       "<!-- 2&#45;&gt;5 -->\r\n",
       "<g id=\"edge7\" class=\"edge\"><title>2&#45;&gt;5</title>\r\n",
       "<path fill=\"none\" stroke=\"#3a4562\" d=\"M76.7108,-296.518C65.2748,-289.899 51.6804,-279.934 44.2922,-267 40.3886,-260.166 38.3922,-252.05 37.4744,-244.215\"/>\r\n",
       "<polygon fill=\"#3a4562\" stroke=\"#3a4562\" points=\"40.9651,-243.956 36.8197,-234.206 33.9801,-244.413 40.9651,-243.956\"/>\r\n",
       "<text text-anchor=\"middle\" x=\"47.7922\" y=\"-255.8\" font-family=\"Times New Roman,serif\" font-size=\"14.00\">1</text>\r\n",
       "</g>\r\n",
       "<!-- 3&#45;&gt;1 -->\r\n",
       "<g id=\"edge8\" class=\"edge\"><title>3&#45;&gt;1</title>\r\n",
       "<path fill=\"none\" stroke=\"#fec7ba\" d=\"M106.294,-22.5961C161.461,-22.8412 301.292,-31.7703 301.292,-116 301.292,-308 301.292,-308 301.292,-308 301.292,-355.336 243.15,-381.192 205.545,-392.964\"/>\r\n",
       "<polygon fill=\"#fec7ba\" stroke=\"#fec7ba\" points=\"204.148,-389.728 195.549,-395.917 206.131,-396.441 204.148,-389.728\"/>\r\n",
       "<text text-anchor=\"middle\" x=\"304.792\" y=\"-208.3\" font-family=\"Times New Roman,serif\" font-size=\"14.00\">3</text>\r\n",
       "</g>\r\n",
       "<!-- 3&#45;&gt;4 -->\r\n",
       "<g id=\"edge9\" class=\"edge\"><title>3&#45;&gt;4</title>\r\n",
       "<path fill=\"none\" stroke=\"#3a4562\" d=\"M90.7891,-43.1402C94.8357,-55.6847 100.115,-72.0512 104.645,-86.0938\"/>\r\n",
       "<polygon fill=\"#3a4562\" stroke=\"#3a4562\" points=\"101.382,-87.3778 107.783,-95.8204 108.044,-85.2288 101.382,-87.3778\"/>\r\n",
       "<text text-anchor=\"middle\" x=\"103.792\" y=\"-65.8\" font-family=\"Times New Roman,serif\" font-size=\"14.00\">1</text>\r\n",
       "</g>\r\n",
       "<!-- 3&#45;&gt;5 -->\r\n",
       "<g id=\"edge10\" class=\"edge\"><title>3&#45;&gt;5</title>\r\n",
       "<path fill=\"none\" stroke=\"#fec7ba\" d=\"M65.4563,-34.128C54.9276,-41.0873 42.1776,-50.8373 33.2922,-62 23.2588,-74.605 21.7029,-79.2544 18.2922,-95 11.0474,-128.447 10.2598,-138.734 18.2922,-172 19.2494,-175.964 20.6824,-179.978 22.35,-183.846\"/>\r\n",
       "<polygon fill=\"#fec7ba\" stroke=\"#fec7ba\" points=\"19.3113,-185.6 26.8411,-193.054 25.6027,-182.531 19.3113,-185.6\"/>\r\n",
       "<text text-anchor=\"middle\" x=\"21.7922\" y=\"-113.3\" font-family=\"Times New Roman,serif\" font-size=\"14.00\">4</text>\r\n",
       "</g>\r\n",
       "<!-- 4&#45;&gt;1 -->\r\n",
       "<g id=\"edge11\" class=\"edge\"><title>4&#45;&gt;1</title>\r\n",
       "<path fill=\"none\" stroke=\"#3a4562\" d=\"M131.543,-131.399C139.598,-138.349 148.815,-147.386 155.292,-157 164.1,-170.074 164.149,-174.79 168.292,-190 186.765,-257.816 185.028,-276.75 187.292,-347 187.507,-353.663 188.36,-355.419 187.292,-362 186.794,-365.071 186.088,-368.227 185.26,-371.35\"/>\r\n",
       "<polygon fill=\"#3a4562\" stroke=\"#3a4562\" points=\"181.866,-370.484 182.304,-381.069 188.563,-372.521 181.866,-370.484\"/>\r\n",
       "<text text-anchor=\"middle\" x=\"186.792\" y=\"-255.8\" font-family=\"Times New Roman,serif\" font-size=\"14.00\">3</text>\r\n",
       "</g>\r\n",
       "<!-- 4&#45;&gt;2 -->\r\n",
       "<g id=\"edge12\" class=\"edge\"><title>4&#45;&gt;2</title>\r\n",
       "<path fill=\"none\" stroke=\"#fec7ba\" d=\"M112.27,-139.123C109.106,-172.166 102.969,-236.269 99.2899,-274.691\"/>\r\n",
       "<polygon fill=\"#fec7ba\" stroke=\"#fec7ba\" points=\"95.7912,-274.511 98.3221,-284.799 102.759,-275.179 95.7912,-274.511\"/>\r\n",
       "<text text-anchor=\"middle\" x=\"110.792\" y=\"-208.3\" font-family=\"Times New Roman,serif\" font-size=\"14.00\">4</text>\r\n",
       "</g>\r\n",
       "<!-- 4&#45;&gt;3 -->\r\n",
       "<g id=\"edge13\" class=\"edge\"><title>4&#45;&gt;3</title>\r\n",
       "<path fill=\"none\" stroke=\"#fec7ba\" d=\"M100.264,-100.026C95.2412,-93.3623 90.1252,-85.2567 87.2922,-77 84.8202,-69.7951 83.6136,-61.7338 83.1187,-54.0824\"/>\r\n",
       "<polygon fill=\"#fec7ba\" stroke=\"#fec7ba\" points=\"86.6156,-53.9182 82.833,-44.0217 79.6184,-54.117 86.6156,-53.9182\"/>\r\n",
       "<text text-anchor=\"middle\" x=\"90.7922\" y=\"-65.8\" font-family=\"Times New Roman,serif\" font-size=\"14.00\">5</text>\r\n",
       "</g>\r\n",
       "<!-- 4&#45;&gt;5 -->\r\n",
       "<g id=\"edge14\" class=\"edge\"><title>4&#45;&gt;5</title>\r\n",
       "<path fill=\"none\" stroke=\"#fec7ba\" d=\"M95.8912,-129.723C85.923,-136.743 73.918,-146.357 65.2922,-157 59.2984,-164.395 54.1592,-173.34 50.0226,-181.804\"/>\r\n",
       "<polygon fill=\"#fec7ba\" stroke=\"#fec7ba\" points=\"46.7709,-180.498 45.7861,-191.047 53.1344,-183.415 46.7709,-180.498\"/>\r\n",
       "<text text-anchor=\"middle\" x=\"68.7922\" y=\"-160.8\" font-family=\"Times New Roman,serif\" font-size=\"14.00\">7</text>\r\n",
       "</g>\r\n",
       "<!-- 5&#45;&gt;1 -->\r\n",
       "<g id=\"edge15\" class=\"edge\"><title>5&#45;&gt;1</title>\r\n",
       "<path fill=\"none\" stroke=\"#fec7ba\" d=\"M36.377,-234.033C35.9285,-239.848 35.5164,-246.164 35.2922,-252 33.9216,-287.69 36.4805,-300.717 58.2922,-329 80.4975,-357.793 117.743,-377.932 144.031,-389.45\"/>\r\n",
       "<polygon fill=\"#fec7ba\" stroke=\"#fec7ba\" points=\"142.941,-392.788 153.515,-393.442 145.656,-386.337 142.941,-392.788\"/>\r\n",
       "<text text-anchor=\"middle\" x=\"61.7922\" y=\"-303.3\" font-family=\"Times New Roman,serif\" font-size=\"14.00\">4</text>\r\n",
       "</g>\r\n",
       "<!-- 5&#45;&gt;2 -->\r\n",
       "<g id=\"edge16\" class=\"edge\"><title>5&#45;&gt;2</title>\r\n",
       "<path fill=\"none\" stroke=\"#fec7ba\" d=\"M49.53,-231.019C58.0284,-244.646 69.8366,-263.58 79.4607,-279.011\"/>\r\n",
       "<polygon fill=\"#fec7ba\" stroke=\"#fec7ba\" points=\"76.5717,-280.993 84.8333,-287.626 82.5113,-277.289 76.5717,-280.993\"/>\r\n",
       "<text text-anchor=\"middle\" x=\"73.7922\" y=\"-255.8\" font-family=\"Times New Roman,serif\" font-size=\"14.00\">4</text>\r\n",
       "</g>\r\n",
       "<!-- 5&#45;&gt;3 -->\r\n",
       "<g id=\"edge17\" class=\"edge\"><title>5&#45;&gt;3</title>\r\n",
       "<path fill=\"none\" stroke=\"#3a4562\" d=\"M43.3026,-190.523C51.3907,-157.467 67.3696,-92.1621 76.8106,-53.5773\"/>\r\n",
       "<polygon fill=\"#3a4562\" stroke=\"#3a4562\" points=\"80.311,-53.9973 79.288,-43.4519 73.5116,-52.3335 80.311,-53.9973\"/>\r\n",
       "<text text-anchor=\"middle\" x=\"69.7922\" y=\"-113.3\" font-family=\"Times New Roman,serif\" font-size=\"14.00\">3</text>\r\n",
       "</g>\r\n",
       "<!-- 5&#45;&gt;4 -->\r\n",
       "<g id=\"edge18\" class=\"edge\"><title>5&#45;&gt;4</title>\r\n",
       "<path fill=\"none\" stroke=\"#fec7ba\" d=\"M52.0081,-194.309C57.6739,-187.408 64.3047,-179.323 70.2922,-172 78.1457,-162.395 86.7711,-151.816 94.2885,-142.586\"/>\r\n",
       "<polygon fill=\"#fec7ba\" stroke=\"#fec7ba\" points=\"97.2272,-144.52 100.827,-134.556 91.7988,-140.101 97.2272,-144.52\"/>\r\n",
       "<text text-anchor=\"middle\" x=\"85.7922\" y=\"-160.8\" font-family=\"Times New Roman,serif\" font-size=\"14.00\">1</text>\r\n",
       "</g>\r\n",
       "</g>\r\n",
       "</svg>\r\n"
      ],
      "text/plain": [
       "<graphviz.dot.Digraph at 0x2d81ccd64f0>"
      ]
     },
     "execution_count": 11,
     "metadata": {},
     "output_type": "execute_result"
    }
   ],
   "source": [
    "g='Невозможно построить график'\n",
    "if Ans: \n",
    "    import numpy as np\n",
    "    from graphviz import Digraph\n",
    "\n",
    "    new_table = [row[1:] for row in mytable.rows]\n",
    "    adjmatrix = np.array(new_table)\n",
    "    N = adjmatrix.shape[0]\n",
    "    M = adjmatrix.shape[1]\n",
    "    g = Digraph(comment='FromMatrix')\n",
    "    g.attr('node', shape='doublecircle')\n",
    "\n",
    "    for i in range(N):\n",
    "        g.node(str(i+1), str(i+1), style='filled', fillcolor='#c5fb77')\n",
    "        for j in range(M):\n",
    "            if adjmatrix[i][j] not in [chr(10007), 'inf']:\n",
    "                g.edge(str(i+1), str(j+1), label=str(adjmatrix[i][j]), color = ('#3a4562' if (str(i+1), str(j+1)) in best_way else '#fec7ba'))\n",
    "\n",
    "g"
   ]
  },
  {
   "cell_type": "code",
   "execution_count": 12,
   "id": "04ba05ca",
   "metadata": {},
   "outputs": [],
   "source": [
    "import matplotlib.pyplot as plt\n",
    "import random"
   ]
  },
  {
   "cell_type": "code",
   "execution_count": 13,
   "id": "934c3797",
   "metadata": {},
   "outputs": [],
   "source": [
    "times_full = []\n",
    "times_dyn = []\n",
    "for num_cities in range(2, 11):\n",
    "    city_list = list(range(num_cities))\n",
    "    table = [[random.randint(0, 30) for i in range(num_cities)] for i in range(num_cities)]\n",
    "    \n",
    "    tic_1 = time.perf_counter()\n",
    "    best_way = The_full_search_method(city_list, table, printer=False)\n",
    "    toc_1 = time.perf_counter()\n",
    "    \n",
    "    tic_2 = time.perf_counter()\n",
    "    Ans = Bellman(city_list, table)\n",
    "    toc_2 = time.perf_counter()\n",
    "    \n",
    "    times_full.append(toc_1 - tic_1)\n",
    "    times_dyn.append(toc_2 - tic_2)   "
   ]
  },
  {
   "cell_type": "code",
   "execution_count": 14,
   "id": "bff00fbf",
   "metadata": {},
   "outputs": [
    {
     "data": {
      "image/png": "[encoded data removed]",
      "text/plain": [
       "<Figure size 432x288 with 1 Axes>"
      ]
     },
     "metadata": {
      "needs_background": "light"
     },
     "output_type": "display_data"
    }
   ],
   "source": [
    "plt.plot(range(2, 11), times_dyn, '-r',  label='Динамически')\n",
    "plt.plot(range(2, 11), times_full, '-b', label='Полным перебором')\n",
    "plt.xlabel('Количество городов')\n",
    "plt.ylabel('Время выполнения алгоритма')\n",
    "plt.legend()\n",
    "plt.show()"
   ]
  }
 ],
 "metadata": {
  "kernelspec": {
   "display_name": "Python 3 (ipykernel)",
   "language": "python",
   "name": "python3"
  },
  "language_info": {
   "codemirror_mode": {
    "name": "ipython",
    "version": 3
   },
   "file_extension": ".py",
   "mimetype": "text/x-python",
   "name": "python",
   "nbconvert_exporter": "python",
   "pygments_lexer": "ipython3",
   "version": "3.9.7"
  }
 },
 "nbformat": 4,
 "nbformat_minor": 5
}
